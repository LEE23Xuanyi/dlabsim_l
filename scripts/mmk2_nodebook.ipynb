{
 "cells": [
  {
   "cell_type": "code",
   "execution_count": null,
   "metadata": {},
   "outputs": [],
   "source": [
    "%env MUJOCO_GL=egl\n",
    "\n",
    "import os\n",
    "import mujoco\n",
    "import mediapy\n",
    "import numpy as np\n",
    "import pinocchio as pin\n",
    "from scipy.spatial.transform import Rotation\n",
    "\n",
    "from dlabsim import DLABSIM_ASSERT_DIR\n",
    "\n",
    "np.set_printoptions(precision=5, suppress=True, linewidth=500)"
   ]
  },
  {
   "cell_type": "code",
   "execution_count": null,
   "metadata": {},
   "outputs": [],
   "source": [
    "def get_site_tmat(mj_data, site_name):\n",
    "    tmat = np.eye(4)\n",
    "    tmat[:3,:3] = mj_data.site(site_name).xmat.reshape((3,3))\n",
    "    tmat[:3,3] = mj_data.site(site_name).xpos\n",
    "    return tmat\n",
    "\n",
    "def get_camera_tmat(mj_data, cam_name):\n",
    "    tmat = np.eye(4)\n",
    "    tmat[:3,:3] = mj_data.cam(cam_name).xmat.reshape(3,3)\n",
    "    tmat[:3,3] = mj_data.cam(cam_name).xpos\n",
    "    return tmat\n",
    "\n",
    "def get_body_tmat(mj_data, body_name):\n",
    "    tmat = np.eye(4)\n",
    "    tmat[:3,:3] = Rotation.from_quat(mj_data.body(body_name).xquat[[1,2,3,0]]).as_matrix()\n",
    "    tmat[:3,3] = mj_data.body(body_name).xpos\n",
    "    return tmat"
   ]
  },
  {
   "cell_type": "code",
   "execution_count": null,
   "metadata": {},
   "outputs": [],
   "source": [
    "mjcf_file_path = \"mjcf/exhibition_conference.xml\"\n",
    "mjcf_file = os.path.join(DLABSIM_ASSERT_DIR, mjcf_file_path)\n",
    "\n",
    "mj_model = mujoco.MjModel.from_xml_path(mjcf_file)\n",
    "mj_data = mujoco.MjData(mj_model)\n",
    "\n",
    "renderer = mujoco.Renderer(mj_model, 480, 640)\n",
    "\n",
    "options = mujoco.MjvOption()\n",
    "mujoco.mjv_defaultOption(options)\n",
    "options.flags[mujoco.mjtVisFlag.mjVIS_TRANSPARENT] = True\n",
    "# options.flags[mujoco.mjtVisFlag.mjVIS_CONTACTFORCE] = True\n",
    "options.flags[mujoco.mjtVisFlag.mjVIS_COM] = True\n",
    "# options.flags[mujoco.mjtVisFlag.mjVIS_PERTFORCE] = True\n",
    "# options.flags[mujoco.mjtVisFlag.mjVIS_PERTOBJ] = True\n",
    "# options.frame = mujoco.mjtFrame.mjFRAME_BODY.value\n",
    "options.frame = mujoco.mjtFrame.mjFRAME_SITE.value\n",
    "\n",
    "mj_data.qpos[:] = mj_model.key(\"carry\").qpos\n",
    "\n",
    "mujoco.mj_forward(mj_model, mj_data)\n",
    "\n",
    "renderer.update_scene(mj_data, -1, options)\n",
    "rgb = renderer.render()\n",
    "mediapy.show_image(rgb)"
   ]
  },
  {
   "cell_type": "code",
   "execution_count": null,
   "metadata": {},
   "outputs": [],
   "source": [
    "# rgt_endp  = [1.452 0.876 1.375]\n",
    "# rgt_ende  = [-2.187  0.047 -0.297]\n",
    "\n",
    "q = np.array([ 0.752,  0.961,  0.   ,  1.   ,  0.   ,  0.   , -0.029])\n",
    "\n",
    "quat = q[3:]\n",
    "tmat = np.eye(4)\n",
    "tmat[:3,:3] = Rotation.from_quat(quat[[1,2,3,0]]).as_matrix()\n",
    "tmat[:3,3] = q[:3]\n",
    "print(tmat)\n",
    "\n",
    "posi_homo = np.array([1.452, 0.876, 1.375, 1.0])\n",
    "lft_endp = np.linalg.inv(tmat) @ posi_homo\n",
    "print(lft_endp)"
   ]
  },
  {
   "cell_type": "code",
   "execution_count": null,
   "metadata": {},
   "outputs": [],
   "source": [
    "0.187 + lft_endp[2]"
   ]
  },
  {
   "cell_type": "code",
   "execution_count": null,
   "metadata": {},
   "outputs": [],
   "source": [
    "name_lst = mj_model.names.decode(\"utf-8\").split(\"\\x00\")\n",
    "for n in name_lst:\n",
    "    if n.startswith(\"p1_\"):\n",
    "        print(n)"
   ]
  },
  {
   "cell_type": "code",
   "execution_count": null,
   "metadata": {},
   "outputs": [],
   "source": [
    "tmat_lft_end = get_site_tmat(mj_data, \"lft_endpoint\")\n",
    "tmat_rgt_end = get_site_tmat(mj_data, \"rgt_endpoint\")\n",
    "print(tmat_lft_end[:3,3])\n",
    "print(tmat_rgt_end[:3,3])\n",
    "# tmat_rgt_cam = get_site_tmat(mj_data, \"lft_handeye\")\n",
    "# np.linalg.inv(tmat_rgt_end) @ tmat_rgt_cam"
   ]
  },
  {
   "cell_type": "code",
   "execution_count": null,
   "metadata": {},
   "outputs": [],
   "source": [
    "tmat1 = get_site_tmat(mj_data, \"top\")\n",
    "tmat2 = get_body_tmat(mj_data, \"slide_link\")\n",
    "tmat3 = get_body_tmat(mj_data, \"lft_arm_link3\")\n",
    "print(tmat1)\n",
    "print(tmat2)\n",
    "print(tmat3)\n",
    "# (tmat2 - tmat1)[2,3]"
   ]
  },
  {
   "cell_type": "code",
   "execution_count": null,
   "metadata": {},
   "outputs": [],
   "source": [
    "print(mj_data.site(\"lft_endpoint\").xpos)\n",
    "print(mj_data.site(\"rgt_endpoint\").xpos)"
   ]
  },
  {
   "cell_type": "code",
   "execution_count": null,
   "metadata": {},
   "outputs": [],
   "source": [
    "tmat_chest = get_body_tmat(mj_data, \"slide_link\")\n",
    "print(tmat_chest)\n",
    "foot_print = get_body_tmat(mj_data, \"mmk2\")\n",
    "print(foot_print)\n",
    "footprint2chest = np.linalg.inv(foot_print) @ tmat_chest\n",
    "print(footprint2chest)\n",
    "tmat_headcam = get_body_tmat(mj_data, \"head_cam\")\n",
    "print(tmat_headcam)"
   ]
  },
  {
   "cell_type": "code",
   "execution_count": null,
   "metadata": {},
   "outputs": [],
   "source": [
    "Rotation.from_matrix(mj_data.geom(\"assembly_board\").xmat.reshape((3,3))).as_quat()[[3,0,1,2]]"
   ]
  },
  {
   "cell_type": "code",
   "execution_count": null,
   "metadata": {},
   "outputs": [],
   "source": [
    "tmat_lft_base = get_body_tmat(mj_data, \"lft_arm_base\")\n",
    "print(np.linalg.inv(tmat_chest) @ tmat_lft_base)\n",
    "tmat_rgt_base = get_body_tmat(mj_data, \"rgt_arm_base\")\n",
    "print(np.linalg.inv(tmat_chest) @ tmat_rgt_base)"
   ]
  },
  {
   "cell_type": "code",
   "execution_count": null,
   "metadata": {},
   "outputs": [],
   "source": [
    "tmat_head_cam = get_camera_tmat(mj_data, \"head_cam\")\n",
    "print(tmat_head_cam)\n",
    "tmat_head_pitch = get_body_tmat(mj_data, \"head_pitch_link\")\n",
    "print(tmat_head_pitch)\n",
    "hp2hc = np.linalg.inv(tmat_head_pitch) @ tmat_head_cam\n",
    "quat = Rotation.from_matrix(hp2hc[:3,:3]).as_quat()[[3,0,1,2]]\n",
    "print(quat)"
   ]
  },
  {
   "cell_type": "code",
   "execution_count": null,
   "metadata": {},
   "outputs": [],
   "source": [
    "tmat_lft_cam = get_site_tmat(mj_data, \"lft_handeye\")\n",
    "tmat_lft_end = get_site_tmat(mj_data, \"lft_endpoint\")\n",
    "print(np.linalg.inv(tmat_lft_end) @ tmat_lft_cam)\n",
    "print(np.linalg.inv(tmat_lft_base) @ tmat_lft_cam)"
   ]
  },
  {
   "cell_type": "code",
   "execution_count": 2,
   "metadata": {},
   "outputs": [],
   "source": [
    "import cv2\n",
    "\n",
    "img = cv2.imread(\"/home/tatp/ws/GreatWall/DLabSim/models/textures/logo/airbot.png\")\n",
    "img = 255 - img\n",
    "cv2.imwrite(\"/home/tatp/ws/GreatWall/DLabSim/models/textures/logo/white_airbot.png\", img)\n",
    "\n",
    "cv2.namedWindow(\"img\")\n",
    "cv2.imshow(\"img\", img)\n",
    "cv2.waitKey(0)\n",
    "cv2.destroyAllWindows()"
   ]
  },
  {
   "cell_type": "code",
   "execution_count": null,
   "metadata": {},
   "outputs": [],
   "source": []
  }
 ],
 "metadata": {
  "kernelspec": {
   "display_name": "renderer",
   "language": "python",
   "name": "python3"
  },
  "language_info": {
   "codemirror_mode": {
    "name": "ipython",
    "version": 3
   },
   "file_extension": ".py",
   "mimetype": "text/x-python",
   "name": "python",
   "nbconvert_exporter": "python",
   "pygments_lexer": "ipython3",
   "version": "3.8.0"
  }
 },
 "nbformat": 4,
 "nbformat_minor": 2
}

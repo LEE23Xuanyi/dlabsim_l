{
 "cells": [
  {
   "cell_type": "code",
   "execution_count": null,
   "metadata": {},
   "outputs": [],
   "source": [
    "import os\n",
    "import numpy as np\n",
    "\n",
    "file_dir = \"/home/tatp/ws/GreatWall/DLabSim/data/object/jimu/\"\n",
    "\n",
    "images_txt = os.path.join(file_dir, \"images.txt\")\n",
    "img_dir = os.path.join(file_dir, \"images\")\n",
    "imgs_lst = os.listdir(img_dir)\n",
    "\n",
    "img_id = 0\n",
    "fp_w = open(images_txt.replace(\".txt\", \"_new.txt\"), \"w\")\n",
    "line_cnt = 0\n",
    "with open(images_txt, \"r\") as fp:\n",
    "    while True:\n",
    "        line = fp.readline()\n",
    "        if not line:\n",
    "            break\n",
    "        line = line.strip()\n",
    "        line_cnt += 1\n",
    "        if len(line) > 0 and line[0] != \"#\":\n",
    "            elems = line.split()\n",
    "            image_name = elems[9]\n",
    "            if image_name in imgs_lst:\n",
    "                img_id += 1\n",
    "                new_line = str(img_id) + line[line.find(\" \"):]\n",
    "                fp_w.write(new_line + \"\\n\")\n",
    "\n",
    "print(f\"{img_id}/{line_cnt}\")\n",
    "fp_w.close()"
   ]
  },
  {
   "cell_type": "code",
   "execution_count": null,
   "metadata": {},
   "outputs": [],
   "source": [
    "import cv2\n",
    "\n",
    "img = cv2.imread(\"/home/tatp/ws/GreatWall/DLabSim/data/object/magic_cube_x2/rembg_images/input_0_005.png\")\n",
    "img.shape"
   ]
  }
 ],
 "metadata": {
  "kernelspec": {
   "display_name": "renderer",
   "language": "python",
   "name": "python3"
  },
  "language_info": {
   "codemirror_mode": {
    "name": "ipython",
    "version": 3
   },
   "file_extension": ".py",
   "mimetype": "text/x-python",
   "name": "python",
   "nbconvert_exporter": "python",
   "pygments_lexer": "ipython3",
   "version": "3.8.0"
  }
 },
 "nbformat": 4,
 "nbformat_minor": 2
}

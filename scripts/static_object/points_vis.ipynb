{
 "cells": [
  {
   "cell_type": "code",
   "execution_count": null,
   "metadata": {},
   "outputs": [],
   "source": [
    "import os\n",
    "import cv2\n",
    "import json\n",
    "import numpy as np\n",
    "import open3d as o3d\n",
    "from scipy.spatial.transform import Rotation\n",
    "\n",
    "np.set_printoptions(precision=5, suppress=True, linewidth=500)"
   ]
  },
  {
   "cell_type": "code",
   "execution_count": null,
   "metadata": {},
   "outputs": [],
   "source": [
    "def npy2ply(input_path, output_path):\n",
    "    points = np.load(input_path).astype(np.float32)*1e-3\n",
    "    rot_mat = Rotation.from_euler('xyz', [6, 0, 0], degrees=True).as_matrix()\n",
    "    new_p = points @ rot_mat\n",
    "    pcd = o3d.geometry.PointCloud()\n",
    "    pcd.points = o3d.utility.Vector3dVector(new_p)\n",
    "    o3d.visualization.draw_geometries([pcd])\n",
    "    o3d.io.write_point_cloud(output_path, pcd, write_ascii=True)\n",
    "\n",
    "ip = \"/home/tatp/ws/graphics/yolov7/runs/detect/kinect/points/color_000.npy\"\n",
    "npy2ply(ip, ip.replace(\".npy\", \".ply\"))"
   ]
  },
  {
   "cell_type": "code",
   "execution_count": null,
   "metadata": {},
   "outputs": [],
   "source": [
    "input_path\n",
    "points = np.load(input_path).astype(np.float32)*1e-3\n"
   ]
  },
  {
   "cell_type": "code",
   "execution_count": null,
   "metadata": {},
   "outputs": [],
   "source": [
    "obj = \"jimu\"\n",
    "data_folder = f\"/home/tatp/ws/GreatWall/DLabSim/data/object/{obj}/3\"\n",
    "points_dir = os.path.join(data_folder, \"points\")\n",
    "imgs_dir = os.path.join(data_folder, \"images\")\n",
    "\n",
    "points = {}\n",
    "for p in os.listdir(points_dir):\n",
    "    points[p.split(\".\")[0]] = np.load(os.path.join(points_dir, p)).astype(np.float32)*1e-3\n",
    "\n",
    "with open(os.path.join(data_folder, \"images.json\")) as fp:\n",
    "    cam_ext = json.load(fp)\n",
    "\n",
    "rot_mat = Rotation.from_euler('xyz', [6, 0, 0], degrees=True).as_matrix()\n",
    "new_points = []\n",
    "for i, ext in enumerate(cam_ext):\n",
    "    tmat = np.eye(4)\n",
    "    tmat[:3,3] = cam_ext[ext]['position']\n",
    "    tmat[:3,:3] = Rotation.from_quat(cam_ext[ext]['orientation']).as_matrix()\n",
    "    print(tmat)\n",
    "    new_p = (points[ext] @ rot_mat + np.array([-0.04, 0.0175, 0])) @ tmat[:3,:3].T + tmat[:3,3]\n",
    "    # new_p = (points[ext] * 0.9 @ rot_mat) @ tmat[:3,:3].T + tmat[:3,3]\n",
    "    # new_p = (points[ext] @ rot_mat) @ tmat[:3,:3].T + tmat[:3,3]\n",
    "    new_p_c = new_p[np.linalg.norm(new_p, axis=1) < 0.15]\n",
    "    new_points.append(new_p_c)\n",
    "\n",
    "pcds = []\n",
    "for i, p in enumerate(new_points):\n",
    "    # if i in {0,1}:\n",
    "    #     continue\n",
    "    pcd = o3d.geometry.PointCloud()\n",
    "    pcd.points = o3d.utility.Vector3dVector(p)\n",
    "    pcds.append(pcd)\n",
    "# o3d.visualization.draw_geometries(pcds + [o3d.geometry.TriangleMesh.create_coordinate_frame()])\n",
    "o3d.visualization.draw_geometries(pcds)\n",
    "\n",
    "combined_pcd = o3d.geometry.PointCloud()\n",
    "for pcd in pcds:\n",
    "    combined_pcd += pcd\n",
    "\n",
    "o3d.io.write_point_cloud(os.path.join(data_folder, \"combined.ply\"), combined_pcd, write_ascii=True)\n"
   ]
  },
  {
   "cell_type": "code",
   "execution_count": null,
   "metadata": {},
   "outputs": [],
   "source": [
    "points"
   ]
  },
  {
   "cell_type": "code",
   "execution_count": null,
   "metadata": {},
   "outputs": [],
   "source": [
    "# new_p = (points[ext] @ rot_mat + np.array([-0.03, 0, 0])) @ tmat[:3,:3].T + tmat[:3,3]\n",
    "ps = points[ext][177133:177135]\n",
    "print(ps)\n",
    "print(rot_mat)\n",
    "print(ps @ rot_mat)\n",
    "print(ps @ rot_mat + np.array([-0.03, 0, 0]))\n",
    "\n",
    "# ps"
   ]
  },
  {
   "cell_type": "code",
   "execution_count": null,
   "metadata": {},
   "outputs": [],
   "source": [
    "for c in cam_ext:\n",
    "    tmat = np.eye(4)\n",
    "    tmat[:3,3] = cam_ext[c]['position']\n",
    "    tmat[:3,:3] = Rotation.from_quat(cam_ext[c]['orientation']).as_matrix()\n",
    "    print(tmat[:3,3])\n",
    "    print(np.linalg.norm(tmat[:2,3]))"
   ]
  },
  {
   "cell_type": "code",
   "execution_count": null,
   "metadata": {},
   "outputs": [],
   "source": [
    "np.argmax(points[ext], axis=0)"
   ]
  },
  {
   "cell_type": "code",
   "execution_count": null,
   "metadata": {},
   "outputs": [],
   "source": [
    "os.listdir(points_dir)"
   ]
  },
  {
   "cell_type": "code",
   "execution_count": null,
   "metadata": {},
   "outputs": [],
   "source": [
    "for p in new_points:\n",
    "    pcd = o3d.geometry.PointCloud()\n",
    "    pcd.points = o3d.utility.Vector3dVector(p)\n",
    "    o3d.visualization.draw_geometries([pcd, o3d.geometry.TriangleMesh.create_coordinate_frame()])\n"
   ]
  },
  {
   "cell_type": "code",
   "execution_count": null,
   "metadata": {},
   "outputs": [],
   "source": [
    "pcd = o3d.geometry.PointCloud()\n",
    "pcd.points = o3d.utility.Vector3dVector(new_points[0])\n",
    "o3d.visualization.draw_geometries([pcd])\n",
    "# o3d.visualization.draw_geometries([pcd, o3d.geometry.TriangleMesh.create_coordinate_frame()])\n"
   ]
  },
  {
   "cell_type": "code",
   "execution_count": null,
   "metadata": {},
   "outputs": [],
   "source": [
    "import cv2\n",
    "\n",
    "# Create a VideoCapture object\n",
    "cap = cv2.VideoCapture(5)\n",
    "\n",
    "# Check if camera opened successfully\n",
    "if not cap.isOpened():\n",
    "    print(\"Error opening video capture\")\n",
    "else:\n",
    "    # Read and display video frames until the user presses 'q'\n",
    "    while True:\n",
    "        # Read a frame from the camera\n",
    "        ret, frame = cap.read()\n",
    "\n",
    "        # If frame is read correctly, ret is True\n",
    "        if ret:\n",
    "            # Display the frame\n",
    "            cv2.imshow('Camera', frame)\n",
    "\n",
    "        # Break the loop if the user presses 'q'\n",
    "        if cv2.waitKey(1) & 0xFF == ord('q'):\n",
    "            break\n",
    "\n",
    "    # Release the VideoCapture object and close the window\n",
    "    cap.release()\n",
    "    cv2.destroyAllWindows()\n"
   ]
  }
 ],
 "metadata": {
  "kernelspec": {
   "display_name": "renderer",
   "language": "python",
   "name": "python3"
  },
  "language_info": {
   "codemirror_mode": {
    "name": "ipython",
    "version": 3
   },
   "file_extension": ".py",
   "mimetype": "text/x-python",
   "name": "python",
   "nbconvert_exporter": "python",
   "pygments_lexer": "ipython3",
   "version": "3.8.0"
  }
 },
 "nbformat": 4,
 "nbformat_minor": 2
}
